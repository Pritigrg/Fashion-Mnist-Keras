{
 "cells": [
  {
   "cell_type": "markdown",
   "metadata": {
    "deletable": false,
    "editable": false,
    "nbgrader": {
     "checksum": "4f0e579811ca78fa31ef045613001bef",
     "grade": false,
     "grade_id": "cell-2d5af604f4dc4f44",
     "locked": true,
     "schema_version": 1,
     "solution": false
    }
   },
   "source": [
    "### Fashion MNIST\n",
    "**<div style=\"text-align: right\"> [Total score: 12]</div>**\n",
    "This dataset is from Zalando's research which consist of a training set of 60,000 examples and a test set of 10,000 examples of 28x28 grayscale images, associated with a label from 10 classes of clothing Items.\n",
    "<br>Source: https://github.com/zalandoresearch/fashion-mnist\n",
    "<br><br>**The 10 classess are**\n",
    "0. T-shirt/top;\n",
    "1. Trouser;\n",
    "2. Pullover;\n",
    "3. Dress;\n",
    "4. Coat;\n",
    "5. Sandal;\n",
    "6. Shirt;\n",
    "7. Sneaker;\n",
    "8. Bag;\n",
    "9. Ankle boot.\n",
    "\n"
   ]
  },
  {
   "cell_type": "markdown",
   "metadata": {
    "deletable": false,
    "editable": false,
    "nbgrader": {
     "checksum": "e75c690e676c63ad797b3ff17a169edc",
     "grade": false,
     "grade_id": "cell-9806466edb2a86e1",
     "locked": true,
     "schema_version": 1,
     "solution": false
    }
   },
   "source": [
    "### Ex1: Import keras and other required libraries"
   ]
  },
  {
   "cell_type": "code",
   "execution_count": 74,
   "metadata": {
    "deletable": false,
    "nbgrader": {
     "checksum": "91a4abec23f2b686d3f3cefc22788e5c",
     "grade": false,
     "grade_id": "cell-7518d4202af55fc8",
     "locked": false,
     "schema_version": 1,
     "solution": true
    }
   },
   "outputs": [],
   "source": [
    "import pandas as pd\n",
    "import numpy as np\n",
    "from sklearn.model_selection import train_test_split\n",
    "from sklearn.metrics import classification_report\n",
    "from tensorflow.python import keras\n",
    "from tensorflow.python.keras.models import Sequential\n",
    "from tensorflow.python.keras.layers import Dense, Flatten, Conv2D, Dropout, MaxPooling2D\n",
    "from keras.datasets import fashion_mnist\n",
    "import matplotlib.pyplot as plt\n",
    "from keras.callbacks import ModelCheckpoint\n",
    "\n",
    "\n",
    "\n",
    "# YOUR CODE HERE\n"
   ]
  },
  {
   "cell_type": "code",
   "execution_count": 75,
   "metadata": {},
   "outputs": [],
   "source": [
    "# Dictionary for each type of label \n",
    "labels = {0 : \"T-shirt/top\", 1: \"Trouser\", 2: \"Pullover\", 3: \"Dress\", 4: \"Coat\",\n",
    "          5: \"Sandal\", 6: \"Shirt\", 7: \"Sneaker\", 8: \"Bag\", 9: \"Ankle Boot\"}\n",
    "\n",
    "import os\n",
    "PATH=\"./Fashion MNIST/\"\n",
    "\n",
    "train_file = PATH+\"fashion-mnist_train.csv\"\n",
    "train_data = pd.read_csv(train_file)"
   ]
  },
  {
   "cell_type": "code",
   "execution_count": 76,
   "metadata": {},
   "outputs": [],
   "source": [
    "IMG_ROWS = 28\n",
    "IMG_COLS = 28\n",
    "NUM_CLASSES = 10\n",
    "TEST_SIZE = 0.2\n",
    "RANDOM_STATE = 2019"
   ]
  },
  {
   "cell_type": "code",
   "execution_count": 77,
   "metadata": {},
   "outputs": [
    {
     "name": "stdout",
     "output_type": "stream",
     "text": [
      "Fashion MNIST train -  rows: 60000  columns: 785\n"
     ]
    }
   ],
   "source": [
    "print(\"Fashion MNIST train -  rows:\",train_data.shape[0],\" columns:\", train_data.shape[1])"
   ]
  },
  {
   "cell_type": "markdown",
   "metadata": {
    "deletable": false,
    "editable": false,
    "nbgrader": {
     "checksum": "61631919b96841e5e07f8a01a40ea319",
     "grade": false,
     "grade_id": "cell-a1b673c842f41010",
     "locked": true,
     "schema_version": 1,
     "solution": false
    }
   },
   "source": [
    "#### Helper Functions are provided to ease your learning\n",
    "- get_classes_distribution(data)\n",
    "- plot_label_per_class(data)\n",
    "- sample_images_data(data)\n",
    "- plot_sample_images(data_sample_images,data_sample_labels)\n",
    "- plot_count_per_class(np.argmax(y_train,axis=1))\n",
    "- get_count_per_class(np.argmax(y_train,axis=1))\n",
    "\n",
    "Use the functions on train data"
   ]
  },
  {
   "cell_type": "code",
   "execution_count": 78,
   "metadata": {},
   "outputs": [],
   "source": [
    "%run helper.py"
   ]
  },
  {
   "cell_type": "code",
   "execution_count": null,
   "metadata": {},
   "outputs": [],
   "source": [
    "# Check the class distribution here [Optional]"
   ]
  },
  {
   "cell_type": "markdown",
   "metadata": {
    "deletable": false,
    "editable": false,
    "nbgrader": {
     "checksum": "d2d66cd882997619f7457237e173c18b",
     "grade": false,
     "grade_id": "cell-0530f6c4cedd568e",
     "locked": true,
     "schema_version": 1,
     "solution": false
    }
   },
   "source": [
    "### Ex2: Data Preprocessing\n",
    "Convert labels to categorical \n",
    "<br> Reshape and Normalise the image dataset"
   ]
  },
  {
   "cell_type": "code",
   "execution_count": 79,
   "metadata": {
    "deletable": false,
    "nbgrader": {
     "checksum": "3baf7ff0f38ae3f493f649ddb45ccb62",
     "grade": false,
     "grade_id": "cell-2728aabfc58b2623",
     "locked": false,
     "schema_version": 1,
     "solution": true
    }
   },
   "outputs": [],
   "source": [
    "def data_preprocessing(raw):\n",
    "    \"\"\"\n",
    "    Converts raw.label to categorical out_y\n",
    "    Converts images in raw.values to normalised images out_x (reshape if required)\n",
    "    \"\"\"\n",
    "    out_y = keras.utils.to_categorical(raw.label, NUM_CLASSES)\n",
    "    num_images = raw.shape[0]\n",
    "    x_as_array = raw.values[:,1:]\n",
    "    x_shaped_array = x_as_array.reshape(num_images, IMG_ROWS, IMG_COLS, 1)\n",
    "    out_x = x_shaped_array / 255\n",
    "    # YOUR CODE HERE\n",
    "    \n",
    "    return out_x, out_y\n",
    "\n"
   ]
  },
  {
   "cell_type": "markdown",
   "metadata": {
    "deletable": false,
    "editable": false,
    "nbgrader": {
     "checksum": "1b284cb4e42153c8dbb47b900a1ad89d",
     "grade": false,
     "grade_id": "cell-1cb2aa2b9af8882f",
     "locked": true,
     "schema_version": 1,
     "solution": false
    }
   },
   "source": [
    "### Ex3: Preprocess and Split the Dataset"
   ]
  },
  {
   "cell_type": "code",
   "execution_count": 80,
   "metadata": {
    "deletable": false,
    "nbgrader": {
     "checksum": "d68d610f3f7e24660d071b96f7ad0cc3",
     "grade": false,
     "grade_id": "cell-0ea6767f11bb3821",
     "locked": false,
     "schema_version": 1,
     "solution": true
    }
   },
   "outputs": [],
   "source": [
    "# Split the data and preprocess it\n",
    "\n",
    "X_train, X_val, y_train, y_val = train_test_split(X, y, test_size=TEST_SIZE, random_state=RANDOM_STATE)\n",
    "\n",
    "# YOUR CODE HERE\n"
   ]
  },
  {
   "cell_type": "code",
   "execution_count": 82,
   "metadata": {},
   "outputs": [
    {
     "name": "stdout",
     "output_type": "stream",
     "text": [
      "Fashion MNIST train -  rows: 48000  columns: (28, 28, 1)\n",
      "Fashion MNIST valid -  rows: 12000  columns: (28, 28, 1)\n"
     ]
    }
   ],
   "source": [
    "print(\"Fashion MNIST train -  rows:\",X_train.shape[0],\" columns:\", X_train.shape[1:4])\n",
    "print(\"Fashion MNIST valid -  rows:\",X_val.shape[0],\" columns:\", X_val.shape[1:4])\n"
   ]
  },
  {
   "cell_type": "markdown",
   "metadata": {
    "deletable": false,
    "editable": false,
    "nbgrader": {
     "checksum": "409b025a31e49af62656af991b46453f",
     "grade": false,
     "grade_id": "cell-bba102edefc15c1a",
     "locked": true,
     "schema_version": 1,
     "solution": false
    }
   },
   "source": [
    "### Ex4: Build and Compile Keras Model  \n",
    "**<div style=\"text-align: right\"> [Score: 2]</div>**\n",
    "Add atleast   \n",
    "- 1 Conv2D layer\n",
    "- 1 MaxPooling layer and\n",
    "- 1 Dense layer\n"
   ]
  },
  {
   "cell_type": "code",
   "execution_count": 58,
   "metadata": {
    "deletable": false,
    "nbgrader": {
     "checksum": "505cc600ad76f01185c53813004c22e9",
     "grade": false,
     "grade_id": "cell-1845028492073f96",
     "locked": false,
     "schema_version": 1,
     "solution": true
    }
   },
   "outputs": [
    {
     "name": "stdout",
     "output_type": "stream",
     "text": [
      "WARNING:tensorflow:From /opt/conda/lib/python3.6/site-packages/tensorflow/python/keras/_impl/keras/backend.py:3086: calling reduce_sum (from tensorflow.python.ops.math_ops) with keep_dims is deprecated and will be removed in a future version.\n",
      "Instructions for updating:\n",
      "keep_dims is deprecated, use keepdims instead\n",
      "WARNING:tensorflow:From /opt/conda/lib/python3.6/site-packages/tensorflow/python/keras/_impl/keras/backend.py:1557: calling reduce_mean (from tensorflow.python.ops.math_ops) with keep_dims is deprecated and will be removed in a future version.\n",
      "Instructions for updating:\n",
      "keep_dims is deprecated, use keepdims instead\n",
      "_________________________________________________________________\n",
      "Layer (type)                 Output Shape              Param #   \n",
      "=================================================================\n",
      "conv2d_10 (Conv2D)           (None, 26, 26, 32)        320       \n",
      "_________________________________________________________________\n",
      "max_pooling2d_7 (MaxPooling2 (None, 13, 13, 32)        0         \n",
      "_________________________________________________________________\n",
      "conv2d_11 (Conv2D)           (None, 11, 11, 64)        18496     \n",
      "_________________________________________________________________\n",
      "max_pooling2d_8 (MaxPooling2 (None, 5, 5, 64)          0         \n",
      "_________________________________________________________________\n",
      "conv2d_12 (Conv2D)           (None, 3, 3, 128)         73856     \n",
      "_________________________________________________________________\n",
      "flatten_4 (Flatten)          (None, 1152)              0         \n",
      "_________________________________________________________________\n",
      "dense_7 (Dense)              (None, 128)               147584    \n",
      "_________________________________________________________________\n",
      "dense_8 (Dense)              (None, 10)                1290      \n",
      "=================================================================\n",
      "Total params: 241,546\n",
      "Trainable params: 241,546\n",
      "Non-trainable params: 0\n",
      "_________________________________________________________________\n"
     ]
    }
   ],
   "source": [
    "model = Sequential()\n",
    "# Add convolution 2D\n",
    "model.add(Conv2D(32, kernel_size=(3, 3),\n",
    "                 activation='relu',\n",
    "                 kernel_initializer='he_normal',\n",
    "                 input_shape=(IMG_ROWS, IMG_COLS, 1)))\n",
    "model.add(MaxPooling2D((2, 2)))\n",
    "model.add(Conv2D(64, \n",
    "                 kernel_size=(3, 3), \n",
    "                 activation='relu'))\n",
    "model.add(MaxPooling2D(pool_size=(2, 2)))\n",
    "model.add(Conv2D(128, (3, 3), activation='relu'))\n",
    "model.add(Flatten())\n",
    "model.add(Dense(128, activation='relu'))\n",
    "model.add(Dense(NUM_CLASSES, activation='softmax'))\n",
    "# YOUR CODE HERE\n",
    "model.compile(loss=keras.losses.categorical_crossentropy,\n",
    "              optimizer='adam',\n",
    "              metrics=['accuracy'])\n",
    "\n",
    "model.summary()"
   ]
  },
  {
   "cell_type": "code",
   "execution_count": 59,
   "metadata": {
    "deletable": false,
    "editable": false,
    "nbgrader": {
     "checksum": "9753f617b4c72a15cd83d06ff629a69a",
     "grade": true,
     "grade_id": "cell-00dd74c3ff493d7d",
     "locked": true,
     "points": 2,
     "schema_version": 1,
     "solution": false
    }
   },
   "outputs": [],
   "source": [
    "#### INTENTIONALLY LEFT BLANK####"
   ]
  },
  {
   "cell_type": "markdown",
   "metadata": {
    "deletable": false,
    "editable": false,
    "nbgrader": {
     "checksum": "4453c79fa588ec28dd223792b6ecc3ee",
     "grade": false,
     "grade_id": "cell-61f2183ac9d6e788",
     "locked": true,
     "schema_version": 1,
     "solution": false
    }
   },
   "source": [
    "### Ex5: Setup Callback Functions and Train Model\n",
    "**<div style=\"text-align: right\"> [Score: 1]</div>**\n",
    "\n",
    "Train your model here\n",
    "-  Train your model with Model Checkpoint callback to save your model\n",
    "-  Comment out the training section before submitting. *Caution!!!*\n",
    "-  Submit by loading checkpoint weights of your trained model"
   ]
  },
  {
   "cell_type": "code",
   "execution_count": 60,
   "metadata": {
    "deletable": false,
    "nbgrader": {
     "checksum": "19afce4d3eb1fdb86aec75737785be2c",
     "grade": false,
     "grade_id": "cell-e1a997a16af12799",
     "locked": false,
     "schema_version": 1,
     "solution": true
    }
   },
   "outputs": [
    {
     "name": "stdout",
     "output_type": "stream",
     "text": [
      "Train on 48000 samples, validate on 12000 samples\n",
      "Epoch 1/10\n",
      "47936/48000 [============================>.]47936/48000 [============================>.] - ETA: 0s - loss: 0.4994 - acc: 0.8178\n",
      "Epoch 00001: val_acc improved from -inf to 0.86792, saving model to ./cp.ckpt\n",
      "48000/48000 [==============================]48000/48000 [==============================] - 59s 1ms/step - loss: 0.4992 - acc: 0.8178 - val_loss: 0.3619 - val_acc: 0.8679\n",
      "\n",
      "Epoch 2/10\n",
      "47872/48000 [============================>.]47872/48000 [============================>.] - ETA: 0s - loss: 0.3250 - acc: 0.8822\n",
      "Epoch 00002: val_acc improved from 0.86792 to 0.88508, saving model to ./cp.ckpt\n",
      "48000/48000 [==============================]48000/48000 [==============================] - 57s 1ms/step - loss: 0.3249 - acc: 0.8822 - val_loss: 0.3137 - val_acc: 0.8851\n",
      "\n",
      "Epoch 3/10\n",
      "47936/48000 [============================>.]47936/48000 [============================>.] - ETA: 0s - loss: 0.2752 - acc: 0.89811600/48000 [=\n",
      "Epoch 00003: val_acc improved from 0.88508 to 0.89742, saving model to ./cp.ckpt\n",
      "48000/48000 [==============================]48000/48000 [==============================] - 58s 1ms/step - loss: 0.2754 - acc: 0.8980 - val_loss: 0.2835 - val_acc: 0.8974\n",
      "\n",
      "Epoch 4/10\n",
      "47936/48000 [============================>.]47936/48000 [============================>.] - ETA: 0s - loss: 0.2385 - acc: 0.9116\n",
      "Epoch 00004: val_acc improved from 0.89742 to 0.89983, saving model to ./cp.ckpt\n",
      "48000/48000 [==============================]48000/48000 [==============================] - 57s 1ms/step - loss: 0.2385 - acc: 0.9116 - val_loss: 0.2879 - val_acc: 0.8998\n",
      "\n",
      "Epoch 5/10\n",
      "47936/48000 [============================>.]47936/48000 [============================>.] - ETA: 0s - loss: 0.2125 - acc: 0.9196\n",
      "Epoch 00005: val_acc improved from 0.89983 to 0.90108, saving model to ./cp.ckpt\n",
      "48000/48000 [==============================]48000/48000 [==============================] - 58s 1ms/step - loss: 0.2124 - acc: 0.9196 - val_loss: 0.2747 - val_acc: 0.9011\n",
      "\n",
      "Epoch 6/10\n",
      "47936/48000 [============================>.]47936/48000 [============================>.] - ETA: 0s - loss: 0.1885 - acc: 0.9294\n",
      "Epoch 00006: val_acc improved from 0.90108 to 0.91083, saving model to ./cp.ckpt\n",
      "48000/48000 [==============================]48000/48000 [==============================] - 58s 1ms/step - loss: 0.1885 - acc: 0.9294 - val_loss: 0.2612 - val_acc: 0.9108\n",
      "\n",
      "Epoch 7/10\n",
      "47936/48000 [============================>.]47936/48000 [============================>.] - ETA: 0s - loss: 0.1658 - acc: 0.9371\n",
      "Epoch 00007: val_acc improved from 0.91083 to 0.91100, saving model to ./cp.ckpt\n",
      "48000/48000 [==============================]48000/48000 [==============================] - 58s 1ms/step - loss: 0.1658 - acc: 0.9371 - val_loss: 0.2617 - val_acc: 0.9110\n",
      "\n",
      "Epoch 8/10\n",
      "47936/48000 [============================>.]47936/48000 [============================>.] - ETA: 0s - loss: 0.1477 - acc: 0.9442\n",
      "Epoch 00008: val_acc did not improve from 0.91100\n",
      "48000/48000 [==============================]48000/48000 [==============================] - 59s 1ms/step - loss: 0.1476 - acc: 0.9443 - val_loss: 0.2687 - val_acc: 0.9105\n",
      "\n",
      "Epoch 9/10\n",
      "47872/48000 [============================>.]47872/48000 [============================>.] - ETA: 0s - loss: 0.1327 - acc: 0.9495\n",
      "Epoch 00009: val_acc did not improve from 0.91100\n",
      "48000/48000 [==============================]48000/48000 [==============================] - 57s 1ms/step - loss: 0.1327 - acc: 0.9496 - val_loss: 0.2788 - val_acc: 0.9090\n",
      "\n",
      "Epoch 10/10\n",
      "47872/48000 [============================>.]47872/48000 [============================>.] - ETA: 0s - loss: 0.1134 - acc: 0.9578- ETA: 0s - loss: 0.1135 - acc: 0\n",
      "Epoch 00010: val_acc did not improve from 0.91100\n",
      "48000/48000 [==============================]48000/48000 [==============================] - 57s 1ms/step - loss: 0.1133 - acc: 0.9578 - val_loss: 0.2906 - val_acc: 0.9103\n",
      "\n"
     ]
    }
   ],
   "source": [
    "checkpoint_path = \"./cp.ckpt\"\n",
    "checkpoint_dir = os.path.dirname(checkpoint_path)\n",
    "\n",
    "# Create checkpoint callback\n",
    "cp_callback = ModelCheckpoint(checkpoint_path, monitor='val_acc', verbose=1, save_best_only=True, mode='max')\n",
    "callbacks_list = [cp_callback]\n",
    "\n",
    "#TRAIN THE MODEL # Fit the model\n",
    "train_model = model.fit(X_train,\n",
    "         y_train,\n",
    "         batch_size=64,\n",
    "         epochs=10,\n",
    "         validation_data=(X_val, y_val),\n",
    "         callbacks=[cp_callback])\n",
    "\n",
    "\n",
    "\n",
    "\n",
    "\n",
    "\n",
    "# YOUR CODE HERE\n"
   ]
  },
  {
   "cell_type": "code",
   "execution_count": null,
   "metadata": {
    "deletable": false,
    "editable": false,
    "nbgrader": {
     "checksum": "aab9b898754f1c45c4ada0a1b84091ca",
     "grade": true,
     "grade_id": "cell-8ba7321494f606d5",
     "locked": true,
     "points": 1,
     "schema_version": 1,
     "solution": false
    }
   },
   "outputs": [],
   "source": [
    "#### INTENTIONALLY LEFT BLANK####"
   ]
  },
  {
   "cell_type": "code",
   "execution_count": 70,
   "metadata": {
    "deletable": false,
    "nbgrader": {
     "checksum": "83d673de075f5eff91e81011cb0139ae",
     "grade": false,
     "grade_id": "cell-62a8e84f3d93235c",
     "locked": false,
     "schema_version": 1,
     "solution": true
    }
   },
   "outputs": [],
   "source": [
    "NO_EPOCHS = 10\n",
    "BATCH_SIZE = 64\n",
    "train_model = model.fit\n",
    "# YOUR CODE HERE\n",
    "\n"
   ]
  },
  {
   "cell_type": "markdown",
   "metadata": {
    "deletable": false,
    "editable": false,
    "nbgrader": {
     "checksum": "1d576385c737de84257386fdce9f0f31",
     "grade": false,
     "grade_id": "cell-239e8bb9d1f02be4",
     "locked": true,
     "schema_version": 1,
     "solution": false
    }
   },
   "source": [
    "### Ex6: Load the Model\n",
    "**<div style=\"text-align: right\"> [Score: 9]</div>**\n",
    "Comment out the Previous Training section and load your model below before submitting"
   ]
  },
  {
   "cell_type": "code",
   "execution_count": 67,
   "metadata": {},
   "outputs": [],
   "source": [
    "train_model = model.load_weights(checkpoint_path)"
   ]
  },
  {
   "cell_type": "code",
   "execution_count": 83,
   "metadata": {},
   "outputs": [
    {
     "name": "stdout",
     "output_type": "stream",
     "text": [
      "Test loss: 0.2616800796141227\n",
      "Test accuracy: 0.911\n"
     ]
    }
   ],
   "source": [
    "#ACCURACY TEST \n",
    "score = model.evaluate(X_val, y_val, verbose=0)\n",
    "print('Test loss:', score[0])\n",
    "print('Test accuracy:', score[1])"
   ]
  },
  {
   "cell_type": "markdown",
   "metadata": {
    "deletable": false,
    "editable": false,
    "nbgrader": {
     "checksum": "9b5e5f9f968e89a0b19f49b8a82f31b5",
     "grade": false,
     "grade_id": "cell-6cfa1ba8b279a889",
     "locked": true,
     "schema_version": 1,
     "solution": false
    }
   },
   "source": [
    "### [Easy] You need to get at least 85% accuracy to pass this test\n",
    "### [Hard] To put your skills to the test try to get 95% or more. check the link on the top for more details"
   ]
  },
  {
   "cell_type": "code",
   "execution_count": null,
   "metadata": {
    "deletable": false,
    "editable": false,
    "nbgrader": {
     "checksum": "239a2715d28fd81876c3fde37e6f7fe0",
     "grade": true,
     "grade_id": "cell-1b1fb5ffc528cd2f",
     "locked": true,
     "points": 5,
     "schema_version": 1,
     "solution": false
    }
   },
   "outputs": [],
   "source": [
    "#### INTENTIONALLY LEFT BLANK####"
   ]
  },
  {
   "cell_type": "code",
   "execution_count": null,
   "metadata": {
    "deletable": false,
    "editable": false,
    "nbgrader": {
     "checksum": "8714845f96f107f488957ac89be94d81",
     "grade": true,
     "grade_id": "cell-fff6ae52ef6fc75f",
     "locked": true,
     "points": 2,
     "schema_version": 1,
     "solution": false
    }
   },
   "outputs": [],
   "source": [
    "#### INTENTIONALLY LEFT BLANK####"
   ]
  },
  {
   "cell_type": "code",
   "execution_count": null,
   "metadata": {
    "deletable": false,
    "editable": false,
    "nbgrader": {
     "checksum": "b81338bf2cd10c2f127c418f55877686",
     "grade": true,
     "grade_id": "cell-22c784fb551a3577",
     "locked": true,
     "points": 2,
     "schema_version": 1,
     "solution": false
    }
   },
   "outputs": [],
   "source": [
    "#### INTENTIONALLY LEFT BLANK####"
   ]
  },
  {
   "cell_type": "code",
   "execution_count": null,
   "metadata": {
    "deletable": false,
    "editable": false,
    "nbgrader": {
     "checksum": "1846bcf0274b947f40c492b14ca1033e",
     "grade": false,
     "grade_id": "cell-c9de459da25afe2c",
     "locked": true,
     "schema_version": 1,
     "solution": false
    }
   },
   "outputs": [],
   "source": [
    "##Congratulations, you have reached the end of the Assignment."
   ]
  }
 ],
 "metadata": {
  "kernelspec": {
   "display_name": "Python 3",
   "language": "python",
   "name": "python3"
  },
  "language_info": {
   "codemirror_mode": {
    "name": "ipython",
    "version": 3
   },
   "file_extension": ".py",
   "mimetype": "text/x-python",
   "name": "python",
   "nbconvert_exporter": "python",
   "pygments_lexer": "ipython3",
   "version": "3.6.8"
  }
 },
 "nbformat": 4,
 "nbformat_minor": 2
}
